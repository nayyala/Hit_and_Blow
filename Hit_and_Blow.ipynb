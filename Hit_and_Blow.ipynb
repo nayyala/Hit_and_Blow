{
 "cells": [
  {
   "cell_type": "code",
   "execution_count": 16,
   "id": "280e295b",
   "metadata": {},
   "outputs": [],
   "source": [
    "# libraries\n",
    "import ipywidgets as widgets\n",
    "from ipywidgets import Layout, Box, VBox, HBox, HTML, Image\n",
    "import math\n",
    "\n",
    "#static data\n",
    "colors = [\n",
    "    \"yellow\",\n",
    "    \"red\",\n",
    "    \"blue\",\n",
    "    \"green\",\n",
    "    \"purple\",\n",
    "    \"black\"\n",
    "]\n",
    "\n",
    "num_pegs = 4\n",
    "\n",
    "# widgets\n",
    "\n",
    "#color selections\n",
    "options = [widgets.Dropdown(\n",
    "    options=colors,\n",
    "    value=colors[0],\n",
    "    description='Color '+str(i+1)+':',\n",
    "    disabled=False,) for i in range(num_pegs)]\n",
    "\n",
    "#select to play with duplicates\n",
    "\n",
    "duplicates = widgets.RadioButtons(\n",
    "    options=['Yes', 'No'],\n",
    "    description='Duplicates?',\n",
    "    disabled=False\n",
    ")\n",
    "\n",
    "#buttons\n",
    "Display_Choice = widgets.Button(\n",
    "    description='Display Choices',\n",
    "    disabled=False,\n",
    "    button_style='', # 'success', 'info', 'warning', 'danger' or ''\n",
    "    tooltip='Click me',\n",
    "    icon='' # (FontAwesome names without the `fa-` prefix)\n",
    ")\n",
    "\n",
    "#class definition for game setup\n",
    "\n",
    "class HB:\n",
    "    def __init__(self):\n",
    "        self.solution = []\n",
    "        self.positions = []\n",
    "        self.index = 0\n",
    "        self.is_duplicates = False\n",
    "\n",
    "\n",
    "            \n",
    "            \n",
    "    "
   ]
  },
  {
   "cell_type": "code",
   "execution_count": 17,
   "id": "36181c74",
   "metadata": {},
   "outputs": [
    {
     "data": {
      "application/vnd.jupyter.widget-view+json": {
       "model_id": "8cb318ae5ac94f5f89dcf1f3b515dedf",
       "version_major": 2,
       "version_minor": 0
      },
      "text/plain": [
       "HBox(children=(Dropdown(description='Color 1:', options=('yellow', 'red', 'blue', 'green', 'purple', 'black'),…"
      ]
     },
     "metadata": {},
     "output_type": "display_data"
    }
   ],
   "source": [
    "hb = HBox()\n",
    "hb.children = options\n",
    "hb\n",
    "    \n",
    "    \n",
    "    \n",
    "    "
   ]
  },
  {
   "cell_type": "code",
   "execution_count": null,
   "id": "b6e4f928",
   "metadata": {},
   "outputs": [],
   "source": []
  }
 ],
 "metadata": {
  "kernelspec": {
   "display_name": "Python 3 (ipykernel)",
   "language": "python",
   "name": "python3"
  },
  "language_info": {
   "codemirror_mode": {
    "name": "ipython",
    "version": 3
   },
   "file_extension": ".py",
   "mimetype": "text/x-python",
   "name": "python",
   "nbconvert_exporter": "python",
   "pygments_lexer": "ipython3",
   "version": "3.9.7"
  }
 },
 "nbformat": 4,
 "nbformat_minor": 5
}
